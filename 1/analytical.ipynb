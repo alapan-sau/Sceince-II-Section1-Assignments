{
  "cells": [
    {
      "cell_type": "markdown",
      "source": "## Question 1: Analytical Solutions",
      "metadata": {
        "cell_id": "00000-bebb6aa8-8bbe-41a4-a188-b5746acda4b5",
        "id": "Mm6bZtVkpIC6",
        "tags": [],
        "deepnote_cell_type": "markdown"
      }
    },
    {
      "cell_type": "markdown",
      "source": "### A. Two Drunks meeting after $ n $ steps of random walk.\n#### Analytical Approach:\n\nWe know a random walk of $ n $ steps by any of the drunk guys is a random sequence of $ L's $ and $ R's $. <br>\nFor e.g, $ LLRRLRRL... $ is such a sequence.\n\nTotal number of ways to make exactly $ l $ left steps out of total $ n $ steps (and $ n-l $ right steps)  = $ \\large{n \\choose l} $ <br>\nNow for both of the drunk guys to meet at same place after $ n $ steps, they both need to make exactly same number of steps towards left and right. <br>\nTotal number of ways for both of the drunk guys to make exactly $ l $ steps towards left = $ \\large{n \\choose l}^{2} $ <br>\nTotal number of ways for both drunk guys to meet together = $\\large{\\sum_{l=0}^{n}{n\\choose l}^2}$ = $ {2n \\choose l} $\n\nTotal number of possible random walks for each guy = $ 2^n $ <br>\nTotal number of possible random walks for both guy together = $ 2^n * 2^n $ = $ 4^n $ <br>\n\nProbabilty that both the drunk guys meet after walking $ N $ random steps =  $\\large{\\frac{{2n \\choose l}}{4^n}}$ $ (ans)$",
      "metadata": {
        "cell_id": "00000-9df4add8-7b11-40dd-8563-0998841e95c4",
        "id": "ZCMAmpPRpIDA",
        "tags": [],
        "deepnote_cell_type": "markdown"
      }
    },
    {
      "cell_type": "markdown",
      "source": "### B. Random walk ending at origin after $ n $ steps.\n\n#### Analytical Approach:\n\nFor, the random walk to end at centre, the walk should consist of equal number of left and right steps.<br>\n\nThus if $ n $ is $ even $, the number of such possible walks = $ \\large{n \\choose n/2} $ <br>\nWith an $ odd $ $ n $ , the number of such walks = $ 0 $ <br>\nTotal number of random walks of $ n $ steps = $ 2^n $ <br>\n\n\n\nThus, if $ n $ is  $ odd $ the probabilty of random walk to end at centre = $ 0 $ <br>\nIf $ n $ is  $ even $ the probabilty of random walk to end at centre = $\\large{\\frac{{n \\choose n/2}}{2^n}}$ $ (ans)$\n\n",
      "metadata": {
        "cell_id": "00001-b340719a-0fa6-4af1-b2d5-000edd2b2aa0",
        "id": "CLa7C6JGpIDB",
        "tags": [],
        "deepnote_cell_type": "markdown"
      }
    },
    {
      "cell_type": "markdown",
      "source": "### C. Mean displacement of a Random Walk.\n\n#### Analytical Approach:\n\nLet's define,\n$ X_i $ be the random variable denoting the $ ith $ step out of $ n $ steps. <br>\nThus, $ X_i $ = $ -1 $ if the $ ith $ step is toward $ left $ and $ X_i $ = $ 1 $ if $ ith $ step is toward $ right $.\n\nTherefore final displacement after $ n $ steps, $ d $ = ${\\sum_{i=0}^{n} {X_i}} $. <br>\n\n$ \\implies{} E[d] = {\\sum_{i=0}^{n} E[{X_i}]} $ <br><br>\nNow, $ E[X_i]  = \\frac{{1}}{2} * (1) + \\frac{{1}}{2} * (-1)  = 0 $ <br>\n\n\n$ \\implies{} E[d] = n*0 = 0 $ $(ans)$<br><br>\n",
      "metadata": {
        "cell_id": "00002-19364769-e461-40e0-a758-b08c7c218b65",
        "id": "RUcMLZ6jpIDB",
        "tags": [],
        "deepnote_cell_type": "markdown"
      }
    },
    {
      "cell_type": "markdown",
      "source": "### D. Mean squared displacement of a Random Walk.\n\n#### Analytical Approach:\n\nLet's define,\n$ X_i $ be the random variable denoting the $ ith $ step out of $ n $ steps. <br>\nThus, $ X_i $ = $ -1 $ if the $ ith $ step is toward $ left $ and $ X_i $ = $ 1 $ if $ ith $ step is toward $ right $.\n\nTherefore final displacement after $ n $ steps, $ d $ = ${\\sum_{i=0}^{n} {X_i}} $. <br>\n$ \\implies{} d^2 = (\\sum_{i=0}^{n} {X_i} )^2$ <br>\n$ \\implies{} d^2 = (X_1^2 + X_2^2 + ... + X_n^2) + 2(X_1X_2 + X_1X_3 + ... + X_{n-1}X_{n})$ <br>\n$ \\implies{} d^2 = \\sum_{i=0}^{n} {X_i}^2  + 2\\sum_{i\\neq{}j,i=0,j=0}^{n} {X_iX_j}$\n\n$ \\implies{} E[d^2] = \\sum_{i=0}^{n} E[{X_i}^2]  + 2\\sum_{i\\neq{}j,i=0,j=0}^{n} E[{X_iX_j}]$ <br>\n\n\nNow, $ E[X_i^2]  = \\frac{{1}}{2} * (1)^2 + \\frac{{1}}{2} * (-1)^2  = 1$ <br>\nSimilarly, $ E[X_iX_j]  =  \\frac{{1}}{4} * (1* 1) + \\frac{{1}}{4} * (-1* 1) + \\frac{{1}}{4} * (1* -1) + \\frac{{1}}{4} * (-1* -1) = 0$ <br>\n\n$ \\implies{} E[d^2] = n*1 + 0 = n$.\n\nThus the mean-squared displacement after $ n $ steps = $ n $ $ (ans) $",
      "metadata": {
        "cell_id": "00003-ae31a627-e0ae-4050-8958-aac12ff02952",
        "id": "tiKo8AWppIDB",
        "tags": [],
        "deepnote_cell_type": "markdown"
      }
    },
    {
      "cell_type": "markdown",
      "source": "<a style='text-decoration:none;line-height:16px;display:flex;color:#5B5B62;padding:10px;justify-content:end;' href='https://deepnote.com?utm_source=created-in-deepnote-cell&projectId=fd6a16f4-cb8d-4d83-be25-8178ee21f50d' target=\"_blank\">\n<img alt='Created in deepnote.com' style='display:inline;max-height:16px;margin:0px;margin-right:7.5px;' src='data:image/svg+xml;base64,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' > </img>\nCreated in <span style='font-weight:600;margin-left:4px;'>Deepnote</span></a>",
      "metadata": {
        "tags": [],
        "created_in_deepnote_cell": true,
        "deepnote_cell_type": "markdown"
      }
    }
  ],
  "nbformat": 4,
  "nbformat_minor": 0,
  "metadata": {
    "colab": {
      "name": "analytical.ipynb",
      "provenance": []
    },
    "deepnote_execution_queue": [],
    "deepnote_notebook_id": "8aba1418-d366-481c-8aa4-caa4cfd83a3b",
    "kernelspec": {
      "display_name": "Python 3",
      "language": "python",
      "name": "python3"
    },
    "language_info": {
      "codemirror_mode": {
        "name": "ipython",
        "version": 3
      },
      "file_extension": ".py",
      "mimetype": "text/x-python",
      "name": "python",
      "nbconvert_exporter": "python",
      "pygments_lexer": "ipython3",
      "version": "3.9.0"
    },
    "deepnote": {}
  }
}